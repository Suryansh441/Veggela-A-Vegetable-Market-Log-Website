{
 "cells": [
  {
   "cell_type": "code",
   "execution_count": 1,
   "metadata": {},
   "outputs": [],
   "source": [
    "import numpy as np\n",
    "import pandas as pd\n",
    "from sklearn.preprocessing import MinMaxScaler\n",
    "import tensorflow as tf\n",
    "from keras.models import Sequential\n",
    "from keras.layers import LSTM, Dense\n",
    "from sklearn.metrics import accuracy_score, mean_squared_error\n",
    "from sklearn.model_selection import train_test_split"
   ]
  },
  {
   "cell_type": "code",
   "execution_count": 2,
   "metadata": {},
   "outputs": [],
   "source": [
    "data = pd.read_csv(\"sabzi.csv\")\n"
   ]
  },
  {
   "cell_type": "code",
   "execution_count": 3,
   "metadata": {},
   "outputs": [],
   "source": [
    "# Exclude the 'Dates' column for training\n",
    "vegetable_data = data.drop('Dates', axis=1)"
   ]
  },
  {
   "cell_type": "code",
   "execution_count": 4,
   "metadata": {},
   "outputs": [],
   "source": [
    "\n",
    "# Prepare sequences and targets for all vegetables\n",
    "X, y = [], []\n",
    "scaler = MinMaxScaler()\n",
    "sequence_length = 10\n",
    "for i in range(len(vegetable_data)):\n",
    "    vegetable_data_scaled = scaler.fit_transform(vegetable_data.iloc[i].values.reshape(-1, 1))\n",
    "    \n",
    "    for j in range(len(vegetable_data_scaled) - sequence_length):\n",
    "        X.append(vegetable_data_scaled[j : j + sequence_length])\n",
    "        y.append(vegetable_data_scaled[j + sequence_length])\n",
    "\n",
    "X = np.array(X) \n",
    "y = np.array(y)\n",
    "\n"
   ]
  },
  {
   "cell_type": "code",
   "execution_count": 5,
   "metadata": {},
   "outputs": [
    {
     "data": {
      "text/plain": [
       "<keras.src.callbacks.History at 0x1ae57128610>"
      ]
     },
     "execution_count": 5,
     "metadata": {},
     "output_type": "execute_result"
    }
   ],
   "source": [
    "# Split data into training and testing sets\n",
    "train_size = int(0.8 * len(X))\n",
    "X_train, X_test = X[:train_size], X[train_size:]\n",
    "y_train, y_test = y[:train_size], y[train_size:]\n",
    "\n",
    "# Define a function to build the LSTM model with given hyperparameters\n",
    "def build_model(num_units):\n",
    "    model = Sequential([\n",
    "        LSTM(units=num_units, activation='relu', input_shape=(X_train.shape[1], X_train.shape[2])),\n",
    "        Dense(units=1)\n",
    "    ])\n",
    "    model.compile(optimizer='adam', loss='mse')\n",
    "    return model\n",
    "\n",
    "# Train the model on all vegetables\n",
    "model = build_model(64)  # You can choose the best hyperparameters based on your evaluation\n",
    "\n",
    "model.fit(X_train, y_train, epochs=50, batch_size=16, verbose=0)"
   ]
  },
  {
   "cell_type": "code",
   "execution_count": 6,
   "metadata": {},
   "outputs": [
    {
     "name": "stdout",
     "output_type": "stream",
     "text": [
      "1/1 [==============================] - 0s 140ms/step\n",
      "Predicted Amla price on 2023/09/15: 75\n"
     ]
    }
   ],
   "source": [
    "# Predict for the selected vegetable and date\n",
    "selected_date = input(\"Enter the custom date (yyyy/mm/dd): \")\n",
    "selected_vegetable = input(\"Enter the custom vegetable name: \")\n",
    "# Prepare the input sequence for prediction\n",
    "selected_data = data[['Dates', selected_vegetable]]\n",
    "selected_data.set_index('Dates', inplace=True)\n",
    "selected_sequence = selected_data.iloc[-sequence_length:]\n",
    "selected_sequence_scaled = scaler.fit_transform(selected_sequence.values.reshape(-1, 1))\n",
    "\n",
    "# Predict the price for the selected vegetable and date\n",
    "predicted_price_scaled = model.predict(np.array([selected_sequence_scaled]))\n",
    "predicted_price = scaler.inverse_transform(predicted_price_scaled)\n",
    "\n",
    "print(f\"Predicted {selected_vegetable} price on {selected_date}: {round(predicted_price[0][0])}\")"
   ]
  },
  {
   "cell_type": "code",
   "execution_count": 7,
   "metadata": {},
   "outputs": [
    {
     "name": "stderr",
     "output_type": "stream",
     "text": [
      "c:\\Users\\gaura\\AppData\\Local\\Programs\\Python\\Python311\\Lib\\site-packages\\keras\\src\\engine\\training.py:3000: UserWarning: You are saving your model as an HDF5 file via `model.save()`. This file format is considered legacy. We recommend using instead the native Keras format, e.g. `model.save('my_model.keras')`.\n",
      "  saving_api.save_model(\n"
     ]
    }
   ],
   "source": [
    "model.save(\"Predictor.h5\")"
   ]
  }
 ],
 "metadata": {
  "kernelspec": {
   "display_name": "Python 3",
   "language": "python",
   "name": "python3"
  },
  "language_info": {
   "codemirror_mode": {
    "name": "ipython",
    "version": 3
   },
   "file_extension": ".py",
   "mimetype": "text/x-python",
   "name": "python",
   "nbconvert_exporter": "python",
   "pygments_lexer": "ipython3",
   "version": "3.11.5"
  },
  "orig_nbformat": 4
 },
 "nbformat": 4,
 "nbformat_minor": 2
}
